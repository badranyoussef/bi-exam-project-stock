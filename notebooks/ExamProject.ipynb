{
 "cells": [
  {
   "cell_type": "markdown",
   "metadata": {},
   "source": [
    "# Define Business Requirement\n",
    "\n",
    "## Problem Statement\n",
    "Title: Stock Price Prediction Based on Macroeconomic Factors\n",
    "\n",
    "## Challenge:\n",
    "How does changes in macroeconomic factors, like interest rates and inflation, affect the stock market development, and how can we predict these changes using historical data?\n",
    "\n",
    "## Importance:\n",
    "Macroeconomic changes have a direct impact on companies' borrowing costs and earnings, which in turn affect their stock prices. Being able to predict these changes can help investors make informed decisions and reduce market risks.\n",
    "\n",
    "## Expected Solution:\n",
    "This study will help us determine if the macroeconomic factors have a influence on the stock prices, and whether investors should invest or not, based macroecomomic factors.\n",
    "\n",
    "We will work towards developing a machine learning model that predicts stock price changes based on historical macroeconomic factors. In this study we mainly focus on interest rate and inflation.\n",
    "\n"
   ]
  },
  {
   "cell_type": "markdown",
   "metadata": {},
   "source": [
    "# Data Collection\n",
    "\n",
    "We will first retrieve the data we will be working with. Before we can begin we have to import the neccesary libraries"
   ]
  },
  {
   "cell_type": "code",
   "execution_count": 2,
   "metadata": {},
   "outputs": [],
   "source": [
    "# importing libraries\n",
    "\n",
    "import pandas as pd\n",
    "import matplotlib.pyplot as plt\n",
    "from pandas_datareader import data as pdr"
   ]
  },
  {
   "cell_type": "code",
   "execution_count": 4,
   "metadata": {},
   "outputs": [],
   "source": [
    "# retrieving data\n",
    "\n",
    "df_sp500 = pd.read_csv('/Users/youssefbadran/Documents/datamatiker/4. semester/BI/sp500_data.csv')\n",
    "df_gold = pd.read_csv('/Users/youssefbadran/Documents/GitHub/bi-exam-project-stock/datasets/cleaned_gold_data.csv')\n",
    "df_interest_inflation = pd.read_csv('https://raw.githubusercontent.com/badranyoussef/bi-exam-project-stock/main/datasets/fed_interest_rate_inflation.csv')\n",
    "#df_interest_2017_to_now = pd.read_excel('/Users/youssefbadran/Documents/GitHub/bi-exam-project-stock/datasets/interest_rate_2017_now_cleaned.xlsx')\n",
    "russell2000_df = pd.read_csv('/Users/youssefbadran/Documents/GitHub/bi-exam-project-stock/datasets/russell_2000.csv')\n",
    "oil_df = pd.read_csv('/Users/youssefbadran/Documents/GitHub/bi-exam-project-stock/datasets/BrentOilPrices.csv')\n",
    "cpi = pd.read_csv('/Users/youssefbadran/Documents/GitHub/bi-exam-project-stock/datasets/cpi_data.csv')\n"
   ]
  },
  {
   "cell_type": "markdown",
   "metadata": {},
   "source": [
    "# Cleaning data\n",
    "Now that we have all the data needed, we will look the through to ensure that there are no missing values. In case values are missing we will fill in missing values depending on the variable/feature"
   ]
  },
  {
   "cell_type": "markdown",
   "metadata": {},
   "source": [
    "in all stock datasets We will remove all columns unless the close values and date\n",
    "\n",
    "As sp500 contains several stocks listed after each other we have a couple of million rows. Therefor we will work with the mean of the close of each stock based on date"
   ]
  },
  {
   "cell_type": "markdown",
   "metadata": {},
   "source": [
    "### SP500"
   ]
  },
  {
   "cell_type": "code",
   "execution_count": 12,
   "metadata": {},
   "outputs": [
    {
     "name": "stdout",
     "output_type": "stream",
     "text": [
      "<class 'pandas.core.frame.DataFrame'>\n",
      "RangeIndex: 4237173 entries, 0 to 4237172\n",
      "Data columns (total 2 columns):\n",
      " #   Column       Dtype         \n",
      "---  ------       -----         \n",
      " 0   Date         datetime64[ns]\n",
      " 1   Close SP500  float64       \n",
      "dtypes: datetime64[ns](1), float64(1)\n",
      "memory usage: 64.7 MB\n"
     ]
    }
   ],
   "source": [
    "\n",
    "df_sp500.info()"
   ]
  },
  {
   "cell_type": "code",
   "execution_count": 9,
   "metadata": {},
   "outputs": [],
   "source": [
    "# Converting Date column to DateTime format\n",
    "df_sp500['Date'] = pd.to_datetime(df_sp500['Date'])\n",
    "\n",
    "# dropping unnecesery columns\n",
    "df_sp500 = df_sp500.drop(columns=['Ticker', 'Volume', 'Adj Close', 'High','Low', 'Open'])\n",
    "\n",
    "df_sp500.rename(columns={'Close':'Close SP500'}, inplace=True)\n",
    "\n",
    "# Group by Date and calculate the sum for each column\n",
    "df_sp500_sum_of_ticker = df_sp500.groupby('Date').agg({\n",
    "    'Close SP500': 'sum',\n",
    "}).reset_index()\n",
    "\n",
    "# Group by Date and calculate the mean for each column\n",
    "df_sp500_mean_of_ticker = df_sp500.groupby('Date').agg({\n",
    "    'Close SP500': 'mean',\n",
    "}).reset_index()"
   ]
  },
  {
   "cell_type": "code",
   "execution_count": 14,
   "metadata": {},
   "outputs": [],
   "source": [
    "#df_sp500_mean_of_ticker.to_csv('df_sp500_cleaned.csv')"
   ]
  },
  {
   "cell_type": "markdown",
   "metadata": {},
   "source": [
    "### Now looking into Gold"
   ]
  },
  {
   "cell_type": "code",
   "execution_count": 17,
   "metadata": {},
   "outputs": [
    {
     "name": "stdout",
     "output_type": "stream",
     "text": [
      "<class 'pandas.core.frame.DataFrame'>\n",
      "RangeIndex: 11604 entries, 0 to 11603\n",
      "Data columns (total 2 columns):\n",
      " #   Column      Non-Null Count  Dtype         \n",
      "---  ------      --------------  -----         \n",
      " 0   Date        11604 non-null  datetime64[ns]\n",
      " 1   Close Gold  11604 non-null  float64       \n",
      "dtypes: datetime64[ns](1), float64(1)\n",
      "memory usage: 181.4 KB\n"
     ]
    }
   ],
   "source": [
    "df_gold.info()"
   ]
  },
  {
   "cell_type": "code",
   "execution_count": 16,
   "metadata": {},
   "outputs": [],
   "source": [
    "df_gold['Date'] = pd.to_datetime(df_gold['Date'])\n",
    "\n",
    "df_gold = df_gold.drop(columns=(['Open', 'High', 'Low', 'Change %']))\n",
    "\n",
    "df_gold.rename(columns={'Price':'Close Gold'}, inplace=True)"
   ]
  },
  {
   "cell_type": "markdown",
   "metadata": {},
   "source": [
    "### Now interest and inflation rates"
   ]
  },
  {
   "cell_type": "code",
   "execution_count": 35,
   "metadata": {},
   "outputs": [
    {
     "name": "stdout",
     "output_type": "stream",
     "text": [
      "<class 'pandas.core.frame.DataFrame'>\n",
      "RangeIndex: 904 entries, 0 to 903\n",
      "Data columns (total 10 columns):\n",
      " #   Column                        Non-Null Count  Dtype  \n",
      "---  ------                        --------------  -----  \n",
      " 0   Year                          904 non-null    int64  \n",
      " 1   Month                         904 non-null    int64  \n",
      " 2   Day                           904 non-null    int64  \n",
      " 3   Federal Funds Target Rate     462 non-null    float64\n",
      " 4   Federal Funds Upper Target    103 non-null    float64\n",
      " 5   Federal Funds Lower Target    103 non-null    float64\n",
      " 6   Effective Federal Funds Rate  752 non-null    float64\n",
      " 7   Real GDP (Percent Change)     250 non-null    float64\n",
      " 8   Unemployment Rate             752 non-null    float64\n",
      " 9   Inflation Rate                710 non-null    float64\n",
      "dtypes: float64(7), int64(3)\n",
      "memory usage: 70.8 KB\n"
     ]
    }
   ],
   "source": [
    "df_interest_inflation.info()"
   ]
  },
  {
   "cell_type": "code",
   "execution_count": 37,
   "metadata": {},
   "outputs": [
    {
     "name": "stdout",
     "output_type": "stream",
     "text": [
      "<class 'pandas.core.frame.DataFrame'>\n",
      "RangeIndex: 904 entries, 0 to 903\n",
      "Data columns (total 3 columns):\n",
      " #   Column          Non-Null Count  Dtype         \n",
      "---  ------          --------------  -----         \n",
      " 0   Date            904 non-null    datetime64[ns]\n",
      " 1   Interest Rate   904 non-null    float64       \n",
      " 2   Inflation Rate  904 non-null    float64       \n",
      "dtypes: datetime64[ns](1), float64(2)\n",
      "memory usage: 21.3 KB\n"
     ]
    }
   ],
   "source": [
    "# drop all columns we don't need\n",
    "df_interest_inflation_dropped = df_interest_inflation.drop(columns=['Federal Funds Target Rate', 'Federal Funds Upper Target', 'Federal Funds Lower Target', 'Real GDP (Percent Change)', 'Unemployment Rate'])\n",
    "\n",
    "# Combine the columns Year, Month, Day into one DateTime column\n",
    "df_interest_inflation_dropped['Date'] = pd.to_datetime(df_interest_inflation_dropped[['Year', 'Month', 'Day']])\n",
    "\n",
    "# Insert the new column at the beginning\n",
    "df_interest_inflation_dropped.insert(0, 'Date', df_interest_inflation_dropped.pop('Date'))\n",
    "\n",
    "# Drop Year, Month and Day\n",
    "df_interest_inflation_dropped = df_interest_inflation_dropped.drop(columns=['Year', 'Month', 'Day'])\n",
    "\n",
    "# renaming column\n",
    "df_interest_inflation_dropped.rename(columns={'Effective Federal Funds Rate':'Interest Rate'}, inplace=True)\n",
    "\n",
    "# filling in the missing values\n",
    "df_interest_inflation_dropped.ffill(inplace=True)\n",
    "df_interest_inflation_dropped.bfill(inplace=True)\n",
    "\n",
    "df_interest_inflation_dropped.info()"
   ]
  },
  {
   "cell_type": "code",
   "execution_count": null,
   "metadata": {},
   "outputs": [],
   "source": [
    "# removing all columns unless date and \n",
    "#df_interest_2017_to_now1 = df_interest_2017_to_now.filter(items=['Effective Date', 'Rate (%)'])\n",
    "\n",
    "# Convert the current column with date to a column with datetime data type and drop the 'Effective Date'\n",
    "#df_interest_2017_to_now1['Date'] = pd.to_datetime(df_interest_2017_to_now1['Effective Date'])\n",
    "#df_interest_2017_to_now1 = df_interest_2017_to_now1.drop(columns=['Effective Date'])\n",
    "\n",
    "# renaming column\n",
    "#df_interest_2017_to_now1.rename(columns={'Rate (%)':'Interest Rate'}, inplace=True)\n",
    "\n",
    "#df_interest_2017_to_now1"
   ]
  },
  {
   "cell_type": "markdown",
   "metadata": {},
   "source": [
    "### combining the two interest datasets\n",
    "As we have two datasets with interest values we will combine them so we can work with one dataset."
   ]
  },
  {
   "cell_type": "code",
   "execution_count": 22,
   "metadata": {},
   "outputs": [],
   "source": [
    "# combining the dataframes with 'Interest Rate'\n",
    "#df_interest_combined = pd.concat([df_interest_inflation_dropped, df_interest_2017_to_now1])\n",
    "\n",
    "# Sorting after 'Date'\n",
    "#df_interest_combined = df_interest_combined.sort_values(by='Date').reset_index(drop=True)\n",
    "\n",
    "# Removing duplicates of dates if overlaping\n",
    "#df_interest_combined = df_interest_combined.drop_duplicates(subset='Date')"
   ]
  },
  {
   "cell_type": "markdown",
   "metadata": {},
   "source": [
    "Just to be sure, we will check if we have duplicates of dates. We make a function as we might need it in the future"
   ]
  },
  {
   "cell_type": "code",
   "execution_count": 24,
   "metadata": {},
   "outputs": [],
   "source": [
    "def check_for_duplicate_dates(df, category):\n",
    "  duplicate_dates = df[df.duplicated(subset=category)]\n",
    "  print(duplicate_dates)"
   ]
  },
  {
   "cell_type": "code",
   "execution_count": 25,
   "metadata": {},
   "outputs": [
    {
     "name": "stdout",
     "output_type": "stream",
     "text": [
      "Empty DataFrame\n",
      "Columns: [Date, Interest Rate, Inflation Rate]\n",
      "Index: []\n"
     ]
    }
   ],
   "source": [
    "#check_for_duplicate_dates(df_interest_combined, 'Date')\n"
   ]
  },
  {
   "cell_type": "code",
   "execution_count": 33,
   "metadata": {},
   "outputs": [],
   "source": [
    "#df_interest_combined.to_csv('df_interest_inflation')"
   ]
  },
  {
   "cell_type": "markdown",
   "metadata": {},
   "source": [
    "### Now lets have a look at Russell Oil and CPI\n",
    "We will as before ensure the date is the type datetime and again remove unneccecary columns and fill in any missing values"
   ]
  },
  {
   "cell_type": "code",
   "execution_count": 27,
   "metadata": {},
   "outputs": [
    {
     "name": "stderr",
     "output_type": "stream",
     "text": [
      "/var/folders/nb/fxty61xd7jsbp25hcb0fqkr00000gn/T/ipykernel_11227/2971755329.py:6: UserWarning: Could not infer format, so each element will be parsed individually, falling back to `dateutil`. To ensure parsing is consistent and as-expected, please specify a format.\n",
      "  oil_df['Date'] = pd.to_datetime(oil_df['Date'])\n"
     ]
    }
   ],
   "source": [
    "# Dropping columns\n",
    "russell2000_df = russell2000_df.drop(columns=['Open', 'Low', 'High', 'Adj Close', 'Volume'])\n",
    "\n",
    "# converting date to datetime\n",
    "russell2000_df['Date'] = pd.to_datetime(russell2000_df['Date'])\n",
    "oil_df['Date'] = pd.to_datetime(oil_df['Date'])\n",
    "cpi['Date'] = pd.to_datetime(cpi['Date'])\n",
    "\n",
    "# renaming columns\n",
    "russell2000_df.rename(columns={'Close':'Close Russell'}, inplace=True)\n",
    "oil_df.rename(columns={'Price':'Close Oil'}, inplace=True)\n",
    "cpi.rename(columns={'DATE':'Date'}, inplace=True)\n",
    "\n",
    "\n"
   ]
  },
  {
   "cell_type": "code",
   "execution_count": 34,
   "metadata": {},
   "outputs": [
    {
     "name": "stdout",
     "output_type": "stream",
     "text": [
      "<class 'pandas.core.frame.DataFrame'>\n",
      "RangeIndex: 751 entries, 0 to 750\n",
      "Data columns (total 2 columns):\n",
      " #   Column    Non-Null Count  Dtype         \n",
      "---  ------    --------------  -----         \n",
      " 0   Date      751 non-null    datetime64[ns]\n",
      " 1   CPIAUCSL  751 non-null    float64       \n",
      "dtypes: datetime64[ns](1), float64(1)\n",
      "memory usage: 11.9 KB\n"
     ]
    }
   ],
   "source": [
    "cpi.info()"
   ]
  },
  {
   "cell_type": "markdown",
   "metadata": {},
   "source": [
    "## Now that we have all the data needed, we will combine all data sets into one dataframe"
   ]
  },
  {
   "cell_type": "code",
   "execution_count": 43,
   "metadata": {},
   "outputs": [],
   "source": [
    "# mergin sp500 into interest and inflation df\n",
    "df_combined = pd.merge(df_interest_inflation_dropped, df_sp500_mean_of_ticker, on='Date', how='outer')\n",
    "# cpi into combined\n",
    "df_combined = pd.merge(df_combined, cpi, on='Date', how='outer')\n",
    "# russell into combined\n",
    "df_combined = pd.merge(df_combined, russell2000_df, on='Date', how='outer')\n",
    "# oil into combined\n",
    "df_combined = pd.merge(df_combined, oil_df, on='Date', how='outer')\n",
    "# gold into combined\n",
    "df_combined = pd.merge(df_combined, df_gold, on='Date', how='outer')"
   ]
  },
  {
   "cell_type": "code",
   "execution_count": 51,
   "metadata": {},
   "outputs": [
    {
     "name": "stdout",
     "output_type": "stream",
     "text": [
      "<class 'pandas.core.frame.DataFrame'>\n",
      "RangeIndex: 16463 entries, 0 to 16462\n",
      "Data columns (total 8 columns):\n",
      " #   Column          Non-Null Count  Dtype         \n",
      "---  ------          --------------  -----         \n",
      " 0   Date            16463 non-null  datetime64[ns]\n",
      " 1   Interest Rate   904 non-null    float64       \n",
      " 2   Inflation Rate  904 non-null    float64       \n",
      " 3   Close SP500     15793 non-null  float64       \n",
      " 4   CPIAUCSL        751 non-null    float64       \n",
      " 5   Close Russell   8521 non-null   float64       \n",
      " 6   Close Oil       9011 non-null   float64       \n",
      " 7   Close Gold      11604 non-null  float64       \n",
      "dtypes: datetime64[ns](1), float64(7)\n",
      "memory usage: 1.0 MB\n"
     ]
    }
   ],
   "source": [
    "df_combined.info()"
   ]
  },
  {
   "cell_type": "code",
   "execution_count": 78,
   "metadata": {},
   "outputs": [],
   "source": [
    "df_filled = df_combined[['Interest Rate','Inflation Rate', 'Close SP500', 'CPIAUCSL', 'Close Russell', 'Close Oil', 'Close Gold']].ffill().bfill()\n",
    "df_filled['Date'] = df_combined['Date']"
   ]
  },
  {
   "cell_type": "code",
   "execution_count": 79,
   "metadata": {},
   "outputs": [
    {
     "name": "stdout",
     "output_type": "stream",
     "text": [
      "<class 'pandas.core.frame.DataFrame'>\n",
      "RangeIndex: 16463 entries, 0 to 16462\n",
      "Data columns (total 8 columns):\n",
      " #   Column          Non-Null Count  Dtype         \n",
      "---  ------          --------------  -----         \n",
      " 0   Interest Rate   16463 non-null  float64       \n",
      " 1   Inflation Rate  16463 non-null  float64       \n",
      " 2   Close SP500     16463 non-null  float64       \n",
      " 3   CPIAUCSL        16463 non-null  float64       \n",
      " 4   Close Russell   16463 non-null  float64       \n",
      " 5   Close Oil       16463 non-null  float64       \n",
      " 6   Close Gold      16463 non-null  float64       \n",
      " 7   Date            16463 non-null  datetime64[ns]\n",
      "dtypes: datetime64[ns](1), float64(7)\n",
      "memory usage: 1.0 MB\n"
     ]
    }
   ],
   "source": [
    "df_filled.info()"
   ]
  },
  {
   "cell_type": "code",
   "execution_count": 80,
   "metadata": {},
   "outputs": [],
   "source": [
    "df_filtered = df_combined[(df_combined['Date'] >= '1987-10-01') & (df_combined['Date'] < '2017-01-01')]"
   ]
  },
  {
   "cell_type": "code",
   "execution_count": 81,
   "metadata": {},
   "outputs": [
    {
     "name": "stdout",
     "output_type": "stream",
     "text": [
      "<class 'pandas.core.frame.DataFrame'>\n",
      "Index: 7724 entries, 6699 to 14422\n",
      "Data columns (total 8 columns):\n",
      " #   Column          Non-Null Count  Dtype         \n",
      "---  ------          --------------  -----         \n",
      " 0   Date            7724 non-null   datetime64[ns]\n",
      " 1   Interest Rate   452 non-null    float64       \n",
      " 2   Inflation Rate  452 non-null    float64       \n",
      " 3   Close SP500     7374 non-null   float64       \n",
      " 4   CPIAUCSL        351 non-null    float64       \n",
      " 5   Close Russell   7374 non-null   float64       \n",
      " 6   Close Oil       7421 non-null   float64       \n",
      " 7   Close Gold      7611 non-null   float64       \n",
      "dtypes: datetime64[ns](1), float64(7)\n",
      "memory usage: 543.1 KB\n"
     ]
    }
   ],
   "source": [
    "df_filtered.info()"
   ]
  },
  {
   "cell_type": "markdown",
   "metadata": {},
   "source": [
    "##### values before filling out data\n",
    "\n",
    "Index: 7724 entries, 6699 to 14422\n",
    "Data columns (total 8 columns):\n",
    "     Column          Non-Null Count  Dtype         \n",
    "---  ------          --------------  -----         \n",
    " 0   Date            7724 non-null   datetime64[ns]\n",
    " 1   Interest Rate   452 non-null    float64       \n",
    " 2   Inflation Rate  452 non-null    float64       \n",
    " 3   Close SP500     7374 non-null   float64       \n",
    " 4   CPIAUCSL        351 non-null    float64       \n",
    " 5   Close Russell   7374 non-null   float64       \n",
    " 6   Close Oil       7421 non-null   float64       \n",
    " 7   Close Gold      7611 non-null   float64       "
   ]
  },
  {
   "cell_type": "code",
   "execution_count": 82,
   "metadata": {},
   "outputs": [],
   "source": [
    "df_filtered_filled = df_filtered[['Interest Rate','Inflation Rate', 'Close SP500', 'CPIAUCSL', 'Close Russell', 'Close Oil', 'Close Gold']].ffill().bfill()\n",
    "df_filtered_filled['Date'] = df_filtered['Date']"
   ]
  },
  {
   "cell_type": "code",
   "execution_count": 83,
   "metadata": {},
   "outputs": [
    {
     "data": {
      "text/html": [
       "<div>\n",
       "<style scoped>\n",
       "    .dataframe tbody tr th:only-of-type {\n",
       "        vertical-align: middle;\n",
       "    }\n",
       "\n",
       "    .dataframe tbody tr th {\n",
       "        vertical-align: top;\n",
       "    }\n",
       "\n",
       "    .dataframe thead th {\n",
       "        text-align: right;\n",
       "    }\n",
       "</style>\n",
       "<table border=\"1\" class=\"dataframe\">\n",
       "  <thead>\n",
       "    <tr style=\"text-align: right;\">\n",
       "      <th></th>\n",
       "      <th>Interest Rate</th>\n",
       "      <th>Inflation Rate</th>\n",
       "      <th>Close SP500</th>\n",
       "      <th>CPIAUCSL</th>\n",
       "      <th>Close Russell</th>\n",
       "      <th>Close Oil</th>\n",
       "      <th>Close Gold</th>\n",
       "      <th>Date</th>\n",
       "    </tr>\n",
       "  </thead>\n",
       "  <tbody>\n",
       "    <tr>\n",
       "      <th>6699</th>\n",
       "      <td>7.29</td>\n",
       "      <td>4.3</td>\n",
       "      <td>9.135417</td>\n",
       "      <td>115.000</td>\n",
       "      <td>171.399994</td>\n",
       "      <td>18.50</td>\n",
       "      <td>453.46</td>\n",
       "      <td>1987-10-01</td>\n",
       "    </tr>\n",
       "    <tr>\n",
       "      <th>6700</th>\n",
       "      <td>7.29</td>\n",
       "      <td>4.3</td>\n",
       "      <td>9.175296</td>\n",
       "      <td>115.000</td>\n",
       "      <td>172.080002</td>\n",
       "      <td>18.65</td>\n",
       "      <td>454.87</td>\n",
       "      <td>1987-10-02</td>\n",
       "    </tr>\n",
       "    <tr>\n",
       "      <th>6701</th>\n",
       "      <td>7.29</td>\n",
       "      <td>4.3</td>\n",
       "      <td>9.175669</td>\n",
       "      <td>115.000</td>\n",
       "      <td>172.539993</td>\n",
       "      <td>18.78</td>\n",
       "      <td>456.83</td>\n",
       "      <td>1987-10-05</td>\n",
       "    </tr>\n",
       "    <tr>\n",
       "      <th>6702</th>\n",
       "      <td>7.29</td>\n",
       "      <td>4.3</td>\n",
       "      <td>8.993629</td>\n",
       "      <td>115.000</td>\n",
       "      <td>170.210007</td>\n",
       "      <td>18.60</td>\n",
       "      <td>457.02</td>\n",
       "      <td>1987-10-06</td>\n",
       "    </tr>\n",
       "    <tr>\n",
       "      <th>6703</th>\n",
       "      <td>7.29</td>\n",
       "      <td>4.3</td>\n",
       "      <td>8.971139</td>\n",
       "      <td>115.000</td>\n",
       "      <td>168.869995</td>\n",
       "      <td>18.58</td>\n",
       "      <td>457.63</td>\n",
       "      <td>1987-10-07</td>\n",
       "    </tr>\n",
       "    <tr>\n",
       "      <th>...</th>\n",
       "      <td>...</td>\n",
       "      <td>...</td>\n",
       "      <td>...</td>\n",
       "      <td>...</td>\n",
       "      <td>...</td>\n",
       "      <td>...</td>\n",
       "      <td>...</td>\n",
       "      <td>...</td>\n",
       "    </tr>\n",
       "    <tr>\n",
       "      <th>14418</th>\n",
       "      <td>0.54</td>\n",
       "      <td>2.2</td>\n",
       "      <td>83.971982</td>\n",
       "      <td>242.637</td>\n",
       "      <td>1371.510010</td>\n",
       "      <td>53.93</td>\n",
       "      <td>1133.94</td>\n",
       "      <td>2016-12-26</td>\n",
       "    </tr>\n",
       "    <tr>\n",
       "      <th>14419</th>\n",
       "      <td>0.54</td>\n",
       "      <td>2.2</td>\n",
       "      <td>84.235925</td>\n",
       "      <td>242.637</td>\n",
       "      <td>1377.709961</td>\n",
       "      <td>53.93</td>\n",
       "      <td>1139.35</td>\n",
       "      <td>2016-12-27</td>\n",
       "    </tr>\n",
       "    <tr>\n",
       "      <th>14420</th>\n",
       "      <td>0.54</td>\n",
       "      <td>2.2</td>\n",
       "      <td>83.446216</td>\n",
       "      <td>242.637</td>\n",
       "      <td>1360.829956</td>\n",
       "      <td>54.95</td>\n",
       "      <td>1142.45</td>\n",
       "      <td>2016-12-28</td>\n",
       "    </tr>\n",
       "    <tr>\n",
       "      <th>14421</th>\n",
       "      <td>0.54</td>\n",
       "      <td>2.2</td>\n",
       "      <td>83.529571</td>\n",
       "      <td>242.637</td>\n",
       "      <td>1363.180054</td>\n",
       "      <td>54.97</td>\n",
       "      <td>1158.32</td>\n",
       "      <td>2016-12-29</td>\n",
       "    </tr>\n",
       "    <tr>\n",
       "      <th>14422</th>\n",
       "      <td>0.54</td>\n",
       "      <td>2.2</td>\n",
       "      <td>83.177213</td>\n",
       "      <td>242.637</td>\n",
       "      <td>1357.130005</td>\n",
       "      <td>54.96</td>\n",
       "      <td>1151.85</td>\n",
       "      <td>2016-12-30</td>\n",
       "    </tr>\n",
       "  </tbody>\n",
       "</table>\n",
       "<p>7724 rows × 8 columns</p>\n",
       "</div>"
      ],
      "text/plain": [
       "       Interest Rate  Inflation Rate  Close SP500  CPIAUCSL  Close Russell  \\\n",
       "6699            7.29             4.3     9.135417   115.000     171.399994   \n",
       "6700            7.29             4.3     9.175296   115.000     172.080002   \n",
       "6701            7.29             4.3     9.175669   115.000     172.539993   \n",
       "6702            7.29             4.3     8.993629   115.000     170.210007   \n",
       "6703            7.29             4.3     8.971139   115.000     168.869995   \n",
       "...              ...             ...          ...       ...            ...   \n",
       "14418           0.54             2.2    83.971982   242.637    1371.510010   \n",
       "14419           0.54             2.2    84.235925   242.637    1377.709961   \n",
       "14420           0.54             2.2    83.446216   242.637    1360.829956   \n",
       "14421           0.54             2.2    83.529571   242.637    1363.180054   \n",
       "14422           0.54             2.2    83.177213   242.637    1357.130005   \n",
       "\n",
       "       Close Oil  Close Gold       Date  \n",
       "6699       18.50      453.46 1987-10-01  \n",
       "6700       18.65      454.87 1987-10-02  \n",
       "6701       18.78      456.83 1987-10-05  \n",
       "6702       18.60      457.02 1987-10-06  \n",
       "6703       18.58      457.63 1987-10-07  \n",
       "...          ...         ...        ...  \n",
       "14418      53.93     1133.94 2016-12-26  \n",
       "14419      53.93     1139.35 2016-12-27  \n",
       "14420      54.95     1142.45 2016-12-28  \n",
       "14421      54.97     1158.32 2016-12-29  \n",
       "14422      54.96     1151.85 2016-12-30  \n",
       "\n",
       "[7724 rows x 8 columns]"
      ]
     },
     "execution_count": 83,
     "metadata": {},
     "output_type": "execute_result"
    }
   ],
   "source": [
    "df_filtered_filled"
   ]
  },
  {
   "cell_type": "markdown",
   "metadata": {},
   "source": [
    "### we have 2 different dfs one with all rows and filled out missing values and one with filteret data between date 1987 and 2017 and filled data\n",
    "\n",
    "We did that as the original file had too many missing values. so we want to check which data set can be best for machine learning later on"
   ]
  },
  {
   "cell_type": "code",
   "execution_count": 84,
   "metadata": {},
   "outputs": [
    {
     "data": {
      "text/plain": [
       "<Axes: xlabel='Date'>"
      ]
     },
     "execution_count": 84,
     "metadata": {},
     "output_type": "execute_result"
    },
    {
     "data": {
      "image/png": "[encoded data removed]",
      "text/plain": [
       "<Figure size 640x480 with 1 Axes>"
      ]
     },
     "metadata": {},
     "output_type": "display_data"
    }
   ],
   "source": [
    "df_filtered_filled.plot.line(y=['Interest Rate', 'Inflation Rate', 'Close SP500', 'Close Gold', 'Close Russell', 'Close Oil', 'CPIAUCSL'] , x='Date')\n"
   ]
  },
  {
   "cell_type": "code",
   "execution_count": 85,
   "metadata": {},
   "outputs": [
    {
     "data": {
      "text/plain": [
       "<Axes: xlabel='Date'>"
      ]
     },
     "execution_count": 85,
     "metadata": {},
     "output_type": "execute_result"
    },
    {
     "data": {
      "image/png": "[encoded data removed]",
      "text/plain": [
       "<Figure size 640x480 with 1 Axes>"
      ]
     },
     "metadata": {},
     "output_type": "display_data"
    }
   ],
   "source": [
    "df_filled.plot.line(y=['Interest Rate', 'Inflation Rate', 'Close SP500', 'Close Gold', 'Close Russell', 'Close Oil', 'CPIAUCSL'] , x='Date')\n"
   ]
  },
  {
   "cell_type": "code",
   "execution_count": null,
   "metadata": {},
   "outputs": [],
   "source": []
  }
 ],
 "metadata": {
  "kernelspec": {
   "display_name": "base",
   "language": "python",
   "name": "python3"
  },
  "language_info": {
   "codemirror_mode": {
    "name": "ipython",
    "version": 3
   },
   "file_extension": ".py",
   "mimetype": "text/x-python",
   "name": "python",
   "nbconvert_exporter": "python",
   "pygments_lexer": "ipython3",
   "version": "3.12.2"
  }
 },
 "nbformat": 4,
 "nbformat_minor": 2
}
